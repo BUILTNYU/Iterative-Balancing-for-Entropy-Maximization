{
  "nbformat": 4,
  "nbformat_minor": 0,
  "metadata": {
    "colab": {
      "provenance": []
    },
    "kernelspec": {
      "name": "python3",
      "display_name": "Python 3"
    },
    "language_info": {
      "name": "python"
    }
  },
  "cells": [
    {
      "cell_type": "code",
      "execution_count": null,
      "metadata": {
        "colab": {
          "base_uri": "https://localhost:8080/"
        },
        "id": "0h_M86hkIq5V",
        "outputId": "c86262fa-9dd8-4b60-9bc3-838e6e8e779e"
      },
      "outputs": [
        {
          "output_type": "stream",
          "name": "stdout",
          "text": [
            "Mounted at /content/drive\n"
          ]
        }
      ],
      "source": [
        "import math\n",
        "import numpy as np\n",
        "import pandas as pd\n",
        "import os\n",
        "from google.colab import drive\n",
        "import time\n",
        "import sys\n",
        "drive.mount('/content/drive')"
      ]
    },
    {
      "cell_type": "code",
      "source": [
        "EZlist = [1,2,3,4]\n",
        "FInput = '/content/drive/MyDrive/Research/Freight/TourSetGen/TinyEM/Tiny Freight.csv' ##These can also be manually altered in the cell below for easier testing\n",
        "FIn = pd.read_csv(FInput) \n",
        "FFreightIn = FIn['Weight Attr'] ## Total Freight originating at a zone per commod \n",
        "OInput = '/content/drive/MyDrive/Research/Freight/TourSetGen/TinyEM/Tiny Trucks.csv'\n",
        "OIn = pd.read_csv(OInput) \n",
        "OTrucksIn = OIn['Trucks Pro'] ##Total Trucks \n",
        "h = 10\n",
        "L = 3  "
      ],
      "metadata": {
        "id": "O-9K6frsI20V"
      },
      "execution_count": null,
      "outputs": []
    },
    {
      "cell_type": "code",
      "source": [
        "FFreightIn.iloc[0]=400\n",
        "FFreightIn.iloc[1]=300\n",
        "FFreightIn.iloc[2]=200\n",
        "FFreightIn.iloc[3]=100\n",
        "OTrucksIn.iloc[0]=40\n",
        "OTrucksIn.iloc[1]=10\n",
        "OTrucksIn.iloc[2]=20\n",
        "OTrucksIn.iloc[3]=30 \n",
        "print(FFreightIn)\n",
        "print(OTrucksIn)\n",
        "print(OTrucksIn.sum())\n",
        "print(FFreightIn.sum())"
      ],
      "metadata": {
        "colab": {
          "base_uri": "https://localhost:8080/"
        },
        "id": "eGU-SFz_I4Mb",
        "outputId": "6a21dafd-8728-4860-ae4f-2272f7d59448"
      },
      "execution_count": null,
      "outputs": [
        {
          "output_type": "stream",
          "name": "stdout",
          "text": [
            "0    400\n",
            "1    300\n",
            "2    200\n",
            "3    100\n",
            "Name: Weight Attr, dtype: int64\n",
            "0    40\n",
            "1    10\n",
            "2    20\n",
            "3    30\n",
            "Name: Trucks Pro, dtype: int64\n",
            "100\n",
            "1000\n"
          ]
        }
      ]
    },
    {
      "cell_type": "code",
      "source": [
        "##This cell is reserved for creating a/b + fm\n",
        "def makeAB(M):  \n",
        "  stopsIndex = 0\n",
        "  la = (np.zeros([len(EZlist),len(M.index)]))\n",
        "  lb = (np.zeros([len(EZlist),len(M.index)]))\n",
        "\n",
        "  for m in M.index:\n",
        "    for stops in M.columns:\n",
        "      stopsIndex = stopsIndex + 1\n",
        "      try: \n",
        "        if stopsIndex == 1: ##the first node is the Prod, everything else is Attr \n",
        "            la[int(float(M.iloc[m][stops]))][m] = 1\n",
        "        else:          \n",
        "            lb[int(float(M.iloc[m][stops]))][m] = 1\n",
        "      except:\n",
        "          pass\n",
        "    stopsIndex = 0\n",
        "  return la,lb\n",
        "\n",
        "def makef(M):\n",
        "  f = []\n",
        "  for m in S:\n",
        "    beta = 1/L\n",
        "    sm = S[m]\n",
        "    f.append(math.exp(-1*beta*sm))\n",
        "\n",
        "  return f"
      ],
      "metadata": {
        "id": "hBbrejybI6HD"
      },
      "execution_count": null,
      "outputs": []
    },
    {
      "cell_type": "code",
      "source": [
        "def yFirst(y1):\n",
        "  denomHolder = []\n",
        "  Denom = []\n",
        "  for j in range(len(FFreightIn)):\n",
        "    for m in range(len(S)):\n",
        "      denomHolder.append(f[m]*b[j][m])\n",
        "    Denom.append( 1/sum(denomHolder))\n",
        "    denomHolder.clear()\n",
        "  for m in range(len(S)):\n",
        "    for j in range(len(FFreightIn)):\n",
        "      y1[j][m] = FFreightIn[j] * (b[j][m] * f[m]) * Denom[j]\n",
        "  \n",
        "  for j in range(len(FFreightIn)):\n",
        "    print(FFreightIn[j]-np.sum(y1,axis=1)[j])\n",
        "  print(sum(sum(y1)))\n",
        "  return y1\n",
        "\n",
        "def tFirst(t1,y1,hk):\n",
        "  yHolder = []\n",
        "  for m in range(len(S)):\n",
        "    for j in range(len(FFreightIn)):\n",
        "      yHolder.append(y1[j][m])\n",
        "    t1[m] = sum(yHolder)/hk\n",
        "    yHolder.clear()     \n",
        "\n",
        "  print(\"t1\",sum(t1),\"h\",hk,\"division\",np.sum(y1)/hk) \n",
        "  return t1"
      ],
      "metadata": {
        "id": "i8oLDL8Iw_RL"
      },
      "execution_count": null,
      "outputs": []
    },
    {
      "cell_type": "code",
      "source": [
        "def Balance(tIn,yIn):\n",
        "  iterCounter = 0\n",
        "  \n",
        "  tBal = np.zeros_like(tIn)\n",
        "  yBal = np.zeros_like(yIn)\n",
        "  tBalN = np.zeros_like(tBal)\n",
        "  yBalN = np.zeros_like(yBal)\n",
        "  \n",
        "  ##Update t \n",
        "  #construct denom first\n",
        "  denomHolderT = []\n",
        "  denomBalT = []\n",
        "  for i in range(len(OTrucksIn)):\n",
        "    for m in range(len(S)):\n",
        "      denomHolderT.append(a[i][m]*tIn[m])\n",
        "    denomBalT.append(1/sum(denomHolderT))\n",
        "    denomHolderT.clear()\n",
        "\n",
        "  tHolder = []\n",
        "  for m in range(len(S)):\n",
        "    for i in range(len(OTrucksIn)):\n",
        "      tHolder.append(OTrucksIn[i] * a[i][m] * tIn[m] * denomBalT[i])\n",
        "    tBal[m] = sum(tHolder)\n",
        "    tHolder.clear() \n",
        "  \n",
        "  ##Update y\n",
        "  #construct denom first\n",
        "  denomHolderY = []\n",
        "  denomBalY = []\n",
        "  for j in range(len(FFreightIn)):\n",
        "    for m in range(len(S)):\n",
        "      denomHolderY.append(b[j][m]*( tBal[m] / sum(yIn)[m] )*yIn[j][m])\n",
        "    denomBalY.append(1/sum(denomHolderY))\n",
        "    denomHolderY.clear()\n",
        "\n",
        "  for j in range(len(FFreightIn)):\n",
        "    for m in range(len(S)):\n",
        "      yBal[j][m] = FFreightIn[j] *  b[j][m] * (tBal[m]/sum(yIn)[m]) * yIn[j][m] * denomBalY[j] \n",
        "\n",
        "  delT = []\n",
        "  delY = []\n",
        "\n",
        "  #Calculate Improvment\n",
        "  for m in range(len(S)):\n",
        "    delT.append(abs(tBal[m] - tIn[m]))\n",
        "\n",
        "  #Iterate if Fail Tours Tolerance Check\n",
        "  if abs(sum(delT)) > .01:\n",
        "    print(\"tBalCall\",delT)\n",
        "    delT.clear()\n",
        "    tBal,yBal = Balance(tBal,yBal)\n",
        "  \n",
        "  for m in range(len(S)):\n",
        "    for j in range(len(FFreightIn)):\n",
        "      delY.append(abs(yBal[j][m] - yIn[j][m]))\n",
        "\n",
        "  #Iterate if Fail Freight Tolerance Check\n",
        "  if abs(sum(delY)) > .005:\n",
        "    delY.clear( )\n",
        "    tBal,yBal = Balance(tBal,yBal)\n",
        "    \n",
        "  return tBal, yBal"
      ],
      "metadata": {
        "id": "nrBvmWrtMw8A"
      },
      "execution_count": null,
      "outputs": []
    },
    {
      "cell_type": "code",
      "source": [
        "timeHolder =[]\n",
        "nTours = [8]\n",
        "kIter = 0\n",
        "for nT in nTours:\n",
        "  timeHolder.append(time.time())\n",
        "  MInput = '/content/drive/MyDrive/Research/Freight/TourSetGen/TinyEM/Tiny Tours.csv'\n",
        "  MTours = pd.read_csv(MInput) ## Tour Set list \n",
        "  MTours = MTours.drop(['Unnamed: 0'],axis=1)\n",
        "  S = list(MTours.count(axis=1))\n",
        "  a,b = makeAB(MTours)\n",
        "  f = makef(MTours)\n",
        "\n",
        "  t0 = np.zeros(len(MTours.index))\n",
        "  y0 = np.zeros((len(EZlist),len(MTours.index)))\n",
        "\n",
        "  y1 = yFirst(y0)\n",
        "  t1 = tFirst(t0,y1,h)  \n",
        "\n",
        "\n",
        "  tFin,yFin = Balance(t1,y1)\n",
        "  \n",
        "  timeHolder.append(time.time())\n",
        "  diffTime = timeHolder[-1]-timeHolder[-2]\n",
        "  kIter = kIter +1\n",
        " \n",
        "\n",
        "print(\"TLIB Done!\") "
      ],
      "metadata": {
        "colab": {
          "base_uri": "https://localhost:8080/"
        },
        "id": "ArUsR3aWJa9b",
        "outputId": "5b9da67a-4509-4c04-dcd4-af72f44d3336"
      },
      "execution_count": null,
      "outputs": [
        {
          "output_type": "stream",
          "name": "stdout",
          "text": [
            "0.0\n",
            "0.0\n",
            "0.0\n",
            "0.0\n",
            "1000.0\n",
            "t1 100.0 h 10 division 100.0\n",
            "tBalCall [4.772727272727273, 4.166666666666666, 12.857142857142858, 1.1538461538461533, 9.642857142857142, 8.333333333333332, 2.7272727272727275, 1.3461538461538467]\n",
            "TLIB Done!\n"
          ]
        }
      ]
    },
    {
      "cell_type": "code",
      "source": [
        "print(t1)\n",
        "print(np.around(tFin),sum(tFin))\n",
        "print(y1)\n",
        "print(np.around(yFin),sum(sum(yFin)))\n",
        "print(\"vert sum\",sum(np.around(yFin))/10)\n",
        "print(\"horz sum\",np.sum( np.around(yFin),  axis=1 ))\n",
        "print(diffTime)"
      ],
      "metadata": {
        "colab": {
          "base_uri": "https://localhost:8080/"
        },
        "id": "FN1yzYSHnWu0",
        "outputId": "6ff7f59c-f8dd-4c45-f08a-a76e25393dd9"
      },
      "execution_count": null,
      "outputs": [
        {
          "output_type": "stream",
          "name": "stdout",
          "text": [
            "[17.5  7.5 10.  15.   7.5 15.  10.  17.5]\n",
            "[13.  3. 23. 14. 17.  7.  7. 16.] 100.0\n",
            "[[100.   0.   0. 100.   0. 100.   0. 100.]\n",
            " [ 75.   0.  75.   0.   0.   0.  75.  75.]\n",
            " [  0.  50.   0.  50.  50.  50.   0.   0.]\n",
            " [  0.  25.  25.   0.  25.   0.  25.   0.]]\n",
            "[[102.   0.   0. 113.   0.  55.   0. 130.]\n",
            " [ 25.   0. 185.   0.   0.   0.  59.  32.]\n",
            " [  0.  26.   0.  25. 136.  12.   0.   0.]\n",
            " [  0.   7.  44.   0.  35.   0.  14.   0.]] 1000.0000000000001\n",
            "vert sum [12.7  3.3 22.9 13.8 17.1  6.7  7.3 16.2]\n",
            "horz sum [400. 301. 199. 100.]\n",
            "0.24889278411865234\n"
          ]
        }
      ]
    },
    {
      "cell_type": "code",
      "source": [
        "print(a)\n",
        "print(b)\n",
        "#print(OTrucksIn)\n",
        "#print(FFreightIn)"
      ],
      "metadata": {
        "colab": {
          "base_uri": "https://localhost:8080/"
        },
        "id": "0ja4PXZFImv9",
        "outputId": "df4c4ca1-09d8-4f3a-fb2c-1dbe05d414e5"
      },
      "execution_count": null,
      "outputs": [
        {
          "output_type": "stream",
          "name": "stdout",
          "text": [
            "[[0. 0. 1. 0. 1. 0. 0. 0.]\n",
            " [0. 1. 0. 0. 0. 1. 0. 0.]\n",
            " [1. 0. 0. 0. 0. 0. 1. 0.]\n",
            " [0. 0. 0. 1. 0. 0. 0. 1.]]\n",
            "[[1. 0. 0. 1. 0. 1. 0. 1.]\n",
            " [1. 0. 1. 0. 0. 0. 1. 1.]\n",
            " [0. 1. 0. 1. 1. 1. 0. 0.]\n",
            " [0. 1. 1. 0. 1. 0. 1. 0.]]\n"
          ]
        }
      ]
    },
    {
      "cell_type": "code",
      "source": [
        "print(sum(sum(y1)))\n",
        "print(sum(sum(yFin)))\n",
        "print(sum(t1))\n",
        "print(sum(tFin))"
      ],
      "metadata": {
        "colab": {
          "base_uri": "https://localhost:8080/"
        },
        "id": "Bqz-473zHeyB",
        "outputId": "1ff0453e-d9c9-4d1d-d590-c728f599cb84"
      },
      "execution_count": null,
      "outputs": [
        {
          "output_type": "stream",
          "name": "stdout",
          "text": [
            "1000.0\n",
            "1000.0000000000001\n",
            "100.0\n",
            "100.0\n"
          ]
        }
      ]
    }
  ]
}